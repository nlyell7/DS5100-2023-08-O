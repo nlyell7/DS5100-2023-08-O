{
 "cells": [
  {
   "cell_type": "markdown",
   "metadata": {},
   "source": [
    "# Metadata\n",
    "\n",
    "```yaml\n",
    "Course:   DS 5100\n",
    "Module:   05 Numpy HW\n",
    "Topic:    Capital Asset Pricing Model (CAPM)\n",
    "Author:   R.C. Alvarado (revised)\n",
    "Date:     7 July 2023\n",
    "```"
   ]
  },
  {
   "cell_type": "markdown",
   "metadata": {},
   "source": [
    "# Student Info\n",
    "\n",
    "* Name: Nathan Lyell\n",
    "* Net ID: xuw9ap\n",
    "* URL of this file in GitHub: https://github.com/nlyell7/DS5100-2023-08-O/blob/main/modules/m05/hw05.ipynb"
   ]
  },
  {
   "cell_type": "markdown",
   "metadata": {
    "jp-MarkdownHeadingCollapsed": true,
    "tags": []
   },
   "source": [
    "# Instructions\n",
    "\n",
    "In your **private course repo on Rivanna**, use this Jupyter notebook and the data file `capm_market_data.csv` to write code that performs the tasks below. The data file is in the HW directory of this module in the course repo.\n",
    "\n",
    "Save your notebook in the `M05` directory.\n",
    "\n",
    "Remember to add and commit these files to your repo. \n",
    "\n",
    "Then push your commits to your repo on GitHib.\n",
    "\n",
    "Be sure to fill out the **Student Info** block above.\n",
    "\n",
    "To submit your homework, save the notebook as a PDF and upload it to GradeScope, following the instructions.\n",
    "\n",
    "**TOTAL POINTS: 10**"
   ]
  },
  {
   "cell_type": "markdown",
   "metadata": {
    "jp-MarkdownHeadingCollapsed": true,
    "tags": []
   },
   "source": [
    "# Overview\n",
    "\n",
    "<!-- In this exer Use NumPy and functions to \n",
    "* compute a stock's CAPM beta\n",
    "* perform sensitivity analysis\n",
    "* understand how the data points impact the beta estimate\n",
    " -->\n",
    " \n",
    "In finance, a capital asset pricing model (CAPM) is a single-factor regression model used to explain and predict excess stock returns. \n",
    "\n",
    "There are better, more accurate models, but CAPM has its uses. \n",
    "\n",
    "For example, the **market beta** $\\beta_i$ a useful output.\n",
    "\n",
    "Here is the formula for calculating the expected excess return:\n",
    "\n",
    "$E[R_i] - R_f  = \\beta_i ( E[R_m] - R_f )$\n",
    "\n",
    "where:\n",
    "\n",
    "* $ER_i$: expected return of stock $i$\n",
    "* $R_f$: risk-free rate\n",
    "* $\\beta_i$: market beta of the stock\n",
    "* $ER_m - R_f$: market risk premium\n",
    "\n",
    "**Review the instructions below to complete the requested tasks.**\n",
    "\n",
    "**TOTAL POINTS: 10**"
   ]
  },
  {
   "cell_type": "markdown",
   "metadata": {},
   "source": [
    "# Setting Up"
   ]
  },
  {
   "cell_type": "markdown",
   "metadata": {},
   "source": [
    "Import [NumPy](https://numpy.org/doc/stable/)"
   ]
  },
  {
   "cell_type": "code",
   "execution_count": 2,
   "metadata": {},
   "outputs": [],
   "source": [
    "import numpy as np"
   ]
  },
  {
   "cell_type": "markdown",
   "metadata": {},
   "source": [
    "Define Risk-free Treasury rate. You will use this constant below."
   ]
  },
  {
   "cell_type": "code",
   "execution_count": 3,
   "metadata": {},
   "outputs": [],
   "source": [
    "R_f = 0.0175 / 252"
   ]
  },
  {
   "cell_type": "markdown",
   "metadata": {
    "tags": []
   },
   "source": [
    "# Prepare the Data\n",
    "\n",
    "We import the data and convert it into usable Numby arrays."
   ]
  },
  {
   "cell_type": "markdown",
   "metadata": {},
   "source": [
    "**Read in the market data**\n",
    "\n",
    "The values are closing prices, adjusted for splits and dividends.\n",
    "\n",
    "The prefixes of the second two columns are based on the following codes:\n",
    "* SPY is an ETF for the S&P 500 (i.e. the stock market as whole)\n",
    "* AAPL stands for Apple  "
   ]
  },
  {
   "cell_type": "code",
   "execution_count": 7,
   "metadata": {},
   "outputs": [],
   "source": [
    "data_file = \"capm_market_data-2.csv\""
   ]
  },
  {
   "cell_type": "code",
   "execution_count": 8,
   "metadata": {},
   "outputs": [],
   "source": [
    "data_2D = np.array([row.strip().split(',') for row in open(data_file, 'r').readlines()])"
   ]
  },
  {
   "cell_type": "markdown",
   "metadata": {},
   "source": [
    "**Separete columns from the data** "
   ]
  },
  {
   "cell_type": "code",
   "execution_count": 9,
   "metadata": {},
   "outputs": [],
   "source": [
    "COLS = np.str_(data_2D[0])"
   ]
  },
  {
   "cell_type": "code",
   "execution_count": 10,
   "metadata": {},
   "outputs": [
    {
     "data": {
      "text/plain": [
       "\"['date' 'spy_adj_close' 'aapl_adj_close']\""
      ]
     },
     "execution_count": 10,
     "metadata": {},
     "output_type": "execute_result"
    }
   ],
   "source": [
    "COLS"
   ]
  },
  {
   "cell_type": "markdown",
   "metadata": {},
   "source": [
    "**Separate columns by data types**\n",
    "\n",
    "Numpy wants everything to in a data structure to be of the same type."
   ]
  },
  {
   "cell_type": "code",
   "execution_count": 11,
   "metadata": {},
   "outputs": [],
   "source": [
    "DATES = data_2D[1:, 0]"
   ]
  },
  {
   "cell_type": "code",
   "execution_count": 14,
   "metadata": {},
   "outputs": [
    {
     "data": {
      "text/plain": [
       "array([[321.55578613, 298.82995605],\n",
       "       [319.12091064, 295.92471313],\n",
       "       [320.33837891, 298.28271484],\n",
       "       [319.43765259, 296.87988281],\n",
       "       [321.1401062 , 301.6555481 ],\n",
       "       [323.31762695, 308.06298828],\n",
       "       [322.38720703, 308.75939941],\n",
       "       [324.60440063, 315.35586548],\n",
       "       [324.10949707, 311.09753418],\n",
       "       [324.84191895, 309.76431274],\n",
       "       [327.5440979 , 313.64456177],\n",
       "       [328.56359863, 317.11694336],\n",
       "       [327.92022705, 314.96786499],\n",
       "       [327.95980835, 316.09216309],\n",
       "       [328.3359375 , 317.6144104 ],\n",
       "       [325.41601562, 316.69903564],\n",
       "       [320.19979858, 307.38641357],\n",
       "       [323.5552063 , 316.08218384],\n",
       "       [323.28793335, 322.69851685],\n",
       "       [324.33712769, 322.230896  ],\n",
       "       [318.44784546, 307.94360352],\n",
       "       [320.81344604, 307.09790039],\n",
       "       [325.70306396, 317.23629761],\n",
       "       [329.46429443, 319.82318115],\n",
       "       [330.57287598, 323.56411743],\n",
       "       [328.81103516, 319.16601562],\n",
       "       [331.26571655, 320.68191528],\n",
       "       [331.83981323, 318.74713135],\n",
       "       [333.9777832 , 326.31668091],\n",
       "       [333.62142944, 323.99295044],\n",
       "       [334.15594482, 324.07275391],\n",
       "       [333.2947998 , 318.13879395],\n",
       "       [334.88839722, 322.74633789],\n",
       "       [333.51257324, 319.43527222],\n",
       "       [330.07797241, 312.2048645 ],\n",
       "       [319.13082886, 297.375     ],\n",
       "       [309.46044922, 287.30227661],\n",
       "       [308.32220459, 291.85992432],\n",
       "       [294.47491455, 272.78158569],\n",
       "       [293.23770142, 272.62200928],\n",
       "       [305.93676758, 298.0032959 ],\n",
       "       [297.17706299, 288.53894043],\n",
       "       [309.66830444, 301.92269897],\n",
       "       [299.37442017, 292.12921143],\n",
       "       [294.42541504, 288.24972534],\n",
       "       [271.43243408, 265.45144653],\n",
       "       [285.47769165, 284.56967163],\n",
       "       [271.56106567, 274.68643188],\n",
       "       [245.57888794, 247.55986023],\n",
       "       [266.57250977, 277.21957397],\n",
       "       [237.40315247, 241.55612183],\n",
       "       [250.22103882, 252.17736816],\n",
       "       [237.55162048, 246.0040741 ],\n",
       "       [238.05639648, 244.11917114],\n",
       "       [227.79756165, 228.62113953],\n",
       "       [221.97319031, 223.76426697],\n",
       "       [242.08468628, 246.21351624],\n",
       "       [245.70872498, 244.85717773],\n",
       "       [260.05560303, 257.74230957],\n",
       "       [252.30969238, 247.07118225],\n",
       "       [260.50363159, 254.12210083],\n",
       "       [256.62072754, 253.60350037],\n",
       "       [245.0715332 , 240.2596283 ],\n",
       "       [250.72665405, 244.26876831],\n",
       "       [247.10261536, 240.75827026],\n",
       "       [263.69955444, 261.76141357],\n",
       "       [263.96838379, 258.72961426],\n",
       "       [272.82937622, 265.35171509],\n",
       "       [276.98114014, 267.26651001],\n",
       "       [274.45223999, 272.5123291 ],\n",
       "       [282.54663086, 286.27505493],\n",
       "       [276.5430603 , 283.66213989],\n",
       "       [277.87719727, 285.91604614],\n",
       "       [285.38415527, 282.03652954],\n",
       "       [280.35626221, 276.18237305],\n",
       "       [271.84375   , 267.64547729],\n",
       "       [277.87719727, 275.35461426],\n",
       "       [277.85723877, 274.2875061 ],\n",
       "       [281.73022461, 282.20608521],\n",
       "       [285.79232788, 282.4055481 ],\n",
       "       [284.47814941, 277.82791138],\n",
       "       [291.925354  , 286.95324707],\n",
       "       [289.20733643, 293.00683594],\n",
       "       [281.55102539, 288.28961182],\n",
       "       [282.3276062 , 292.36856079],\n",
       "       [284.93612671, 296.75668335],\n",
       "       [283.00460815, 299.81838989],\n",
       "       [286.41958618, 302.91998291],\n",
       "       [291.15872192, 310.13000488],\n",
       "       [291.21847534, 315.01000977],\n",
       "       [285.41403198, 311.41000366],\n",
       "       [280.36624146, 307.6499939 ],\n",
       "       [283.72146606, 309.54000854],\n",
       "       [285.02572632, 307.70999146],\n",
       "       [293.70751953, 314.95999146],\n",
       "       [290.6907959 , 313.14001465],\n",
       "       [295.62905884, 319.23001099],\n",
       "       [293.58804321, 316.8500061 ],\n",
       "       [294.14559937, 318.89001465],\n",
       "       [297.7696228 , 316.73001099],\n",
       "       [302.20013428, 318.10998535],\n",
       "       [301.64260864, 318.25      ],\n",
       "       [302.98669434, 317.94000244],\n",
       "       [304.21127319, 321.8500061 ],\n",
       "       [306.73019409, 323.33999634],\n",
       "       [310.81222534, 325.11999512],\n",
       "       [309.99581909, 322.32000732],\n",
       "       [317.94088745, 331.5       ],\n",
       "       [321.78396606, 333.45999146],\n",
       "       [319.38452148, 343.98999023],\n",
       "       [317.60235596, 352.83999634],\n",
       "       [299.29293823, 335.8999939 ],\n",
       "       [302.87716675, 338.79998779],\n",
       "       [305.70471191, 342.98999023],\n",
       "       [311.58880615, 352.07998657],\n",
       "       [310.29452515, 351.58999634],\n",
       "       [310.41400146, 351.73001099],\n",
       "       [308.64001465, 349.72000122],\n",
       "       [310.61999512, 358.86999512],\n",
       "       [312.04998779, 366.52999878],\n",
       "       [304.08999634, 360.05999756],\n",
       "       [307.3500061 , 364.83999634],\n",
       "       [300.04998779, 353.63000488],\n",
       "       [304.45999146, 361.77999878],\n",
       "       [308.35998535, 364.79998779],\n",
       "       [310.51998901, 364.10998535],\n",
       "       [312.23001099, 364.10998535],\n",
       "       [317.04998779, 373.8500061 ],\n",
       "       [313.77999878, 372.69000244],\n",
       "       [316.17999268, 381.36999512],\n",
       "       [314.38000488, 383.01000977],\n",
       "       [317.58999634, 383.67999268],\n",
       "       [314.83999634, 381.91000366],\n",
       "       [318.92001343, 388.23001099],\n",
       "       [321.8500061 , 390.8999939 ]])"
      ]
     },
     "execution_count": 14,
     "metadata": {},
     "output_type": "execute_result"
    }
   ],
   "source": [
    "RETURNS = data_2D[1:, 1:].astype('float')\n",
    "RETURNS"
   ]
  },
  {
   "cell_type": "markdown",
   "metadata": {},
   "source": [
    "# Task 1 \n",
    "\n",
    "(1 PT) \n",
    "\n",
    "Print the first 5 rows of the `RETURNS` table."
   ]
  },
  {
   "cell_type": "code",
   "execution_count": 16,
   "metadata": {},
   "outputs": [
    {
     "data": {
      "text/plain": [
       "array([[321.55578613, 298.82995605],\n",
       "       [319.12091064, 295.92471313],\n",
       "       [320.33837891, 298.28271484],\n",
       "       [319.43765259, 296.87988281],\n",
       "       [321.1401062 , 301.6555481 ]])"
      ]
     },
     "execution_count": 16,
     "metadata": {},
     "output_type": "execute_result"
    }
   ],
   "source": [
    "# CODE HERE\n",
    "RETURNS[0:5]"
   ]
  },
  {
   "cell_type": "markdown",
   "metadata": {},
   "source": [
    "# Task 2 \n",
    "\n",
    "(1 PT) \n",
    "\n",
    "Print the first five values from the SPY column in `RETURNS`.\n",
    "\n",
    "Then do the same for the AAPL column.\n",
    "\n",
    "Use one cell for each operation."
   ]
  },
  {
   "cell_type": "code",
   "execution_count": 22,
   "metadata": {},
   "outputs": [
    {
     "name": "stdout",
     "output_type": "stream",
     "text": [
      "[321.55578613 319.12091064 320.33837891 319.43765259 321.1401062 ]\n",
      "[298.82995605 295.92471313 298.28271484 296.87988281 301.6555481 ]\n"
     ]
    }
   ],
   "source": [
    "# CODE HERE\n",
    "print(RETURNS[0:5,0])\n",
    "print(RETURNS[0:5,1])"
   ]
  },
  {
   "cell_type": "markdown",
   "metadata": {
    "tags": []
   },
   "source": [
    "# Task 3 \n",
    "\n",
    "(1 PT)\n",
    "\n",
    "Compute the excess returns by subtracting the constant `R_f` from `RETURNS`.\n",
    "\n",
    "Save the result as numpy 2D array (i.e. a table) named `EXCESS`.\n",
    "\n",
    "Print the LAST five rows from the new table."
   ]
  },
  {
   "cell_type": "code",
   "execution_count": 37,
   "metadata": {},
   "outputs": [
    {
     "name": "stdout",
     "output_type": "stream",
     "text": [
      "[[314.37993544 383.00994032]\n",
      " [317.58992689 383.67992323]\n",
      " [314.83992689 381.90993422]\n",
      " [318.91994398 388.22994154]\n",
      " [321.84993666 390.89992445]]\n"
     ]
    }
   ],
   "source": [
    "# CODE HERE\n",
    "#print(R_f)\n",
    "EXCESS = RETURNS - R_f\n",
    "print(EXCESS[-5:])\n",
    "#print(EXCESS[0:5])\n",
    "#print(RETURNS[0:5])"
   ]
  },
  {
   "cell_type": "markdown",
   "metadata": {},
   "source": [
    "# Task 4 \n",
    "\n",
    "(1 PT)\n",
    "\n",
    "Make a simple [scatterplot using Matplotlib](https://matplotlib.org/stable/api/_as_gen/matplotlib.pyplot.scatter.html) with SPY excess returns on the x-axis, AAPL excess returns on the y-axis.\n",
    "\n",
    "Hint: Use the following code:\n",
    "\n",
    "```python\n",
    "from matplotlib.pyplot import scatter\n",
    "\n",
    "scatter(<x>, <y>)\n",
    "```\n",
    "Replace `<x>` and `<y>` with the appropriate vectors.\n",
    "\n",
    "You may want to save the vectors for the SPY and AAPL columns as `x` and `y` respectively. This will make it visually easier to perform Task 6."
   ]
  },
  {
   "cell_type": "code",
   "execution_count": 31,
   "metadata": {},
   "outputs": [
    {
     "data": {
      "text/plain": [
       "<matplotlib.collections.PathCollection at 0x7f93856e6d30>"
      ]
     },
     "execution_count": 31,
     "metadata": {},
     "output_type": "execute_result"
    },
    {
     "data": {
      "image/png": "[encoded data removed]",
      "text/plain": [
       "<Figure size 640x480 with 1 Axes>"
      ]
     },
     "metadata": {},
     "output_type": "display_data"
    }
   ],
   "source": [
    "# CODE HERE\n",
    "from matplotlib.pyplot import scatter\n",
    "scatter(RETURNS[:,0],RETURNS[:,1])"
   ]
  },
  {
   "cell_type": "markdown",
   "metadata": {},
   "source": [
    "# Taks 5 \n",
    "\n",
    "(3 PTS)\n",
    "\n",
    "Use the **normal equation**, listed below, to compute the Regression Coefficient Estimate of the data plotted above, $\\hat\\beta_i$.\n",
    "\n",
    "Note that $x^T$ denotes the transpose of $x$.\n",
    "\n",
    "$\\begin{aligned} \\hat\\beta_i=(x^Tx)^{−1}x^Ty \\end{aligned}$ \n",
    "\n",
    "Use the Numpy functions for matrix to do this &mdash; multiplication, transpose, and inverse. \n",
    "\n",
    "Note, however, that since $x$ in this case a single column matrix, i.e. a vector, the result of $x'x$ will be a scalar, which is not invertable. So you can just invert the result by division, i.e. \n",
    "\n",
    "$\\hat\\beta_i = \\large\\frac{1}{x^Tx} \\small(x^Ty)$\n",
    "\n",
    "Be sure to review what these operations do, and how they work, if you're a bit rusty."
   ]
  },
  {
   "cell_type": "markdown",
   "metadata": {},
   "source": [
    "**You should find that $\\hat\\beta_i > 1$.**\n",
    "\n",
    "This means that the risk of AAPL stock, given the data, and according to this particular (flawed) model, is higher relative to the risk of the S&P 500.\n"
   ]
  },
  {
   "cell_type": "code",
   "execution_count": 46,
   "metadata": {},
   "outputs": [
    {
     "name": "stdout",
     "output_type": "stream",
     "text": [
      "1.0299802873008543\n"
     ]
    }
   ],
   "source": [
    "# CODE HERE\n",
    "B_hat = (1/(RETURNS[:,0].transpose().dot(RETURNS[:,0])))*(RETURNS[:,0].transpose().dot(RETURNS[:,1]))\n",
    "print(B_hat)"
   ]
  },
  {
   "cell_type": "markdown",
   "metadata": {
    "tags": []
   },
   "source": [
    "# Task 6\n",
    "\n",
    "(3 PTS)\n",
    "\n",
    "**Measuring Beta Sensitivity to Dropping Observations (Jackknifing)**\n",
    "\n",
    "Let's understand how sensitive the beta is to each data point.   \n",
    "We want to drop each data point (one at a time), compute \\\\(\\hat\\beta_i\\\\) using our formula from above, and save each measurement.\n",
    "\n",
    "Write a function called `beta_sensitivity()` with these specs:\n",
    "\n",
    "- Take numpy arrays x and y as inputs.\n",
    "- For each observation i, compute the beta without the current observation. You can use a `lambda` function for this.\n",
    "- Return a list of tuples each containing the observation row dropped and the beta estimate, i.e. something like `(i, beta_est)`, depending how you've named your variables.\n",
    "\n",
    "Hint: `np.delete(x, i)` will delete observation i from array x. "
   ]
  },
  {
   "cell_type": "markdown",
   "metadata": {},
   "source": [
    "Call `beta_sensitivity()` and print the first five tuples of output."
   ]
  },
  {
   "cell_type": "code",
   "execution_count": 62,
   "metadata": {},
   "outputs": [
    {
     "name": "stdout",
     "output_type": "stream",
     "text": [
      "[[321.55578613          nan]\n",
      " [319.12091064   0.92932539]\n",
      " [320.33837891   0.92832644]\n",
      " [319.43765259   0.92926724]\n",
      " [321.1401062    0.92929603]]\n"
     ]
    },
    {
     "name": "stderr",
     "output_type": "stream",
     "text": [
      "/var/folders/ln/235l6p551399m1h7d5tvp_680000gn/T/ipykernel_97783/2902143245.py:5: RuntimeWarning: divide by zero encountered in double_scalars\n",
      "  get_beta = lambda x,y: (1/x.transpose().dot(x))*x.transpose().dot(y)\n",
      "/var/folders/ln/235l6p551399m1h7d5tvp_680000gn/T/ipykernel_97783/2902143245.py:5: RuntimeWarning: invalid value encountered in double_scalars\n",
      "  get_beta = lambda x,y: (1/x.transpose().dot(x))*x.transpose().dot(y)\n"
     ]
    }
   ],
   "source": [
    "# CODE HERE\n",
    "def beta_sensitivity(x,y):\n",
    "    result = np.column_stack((x,y))\n",
    "    \n",
    "    get_beta = lambda x,y: (1/x.transpose().dot(x))*x.transpose().dot(y)\n",
    "    for i in range(0,x.size):\n",
    "        beta_est = get_beta(x[0:i],y[0:i])\n",
    "        result[i,1] = beta_est\n",
    "\n",
    "    return result\n",
    "\n",
    "beta_table = beta_sensitivity(RETURNS[:,0],RETURNS[:,1])\n",
    "print(beta_table[0:5,])\n",
    "\n"
   ]
  }
 ],
 "metadata": {
  "kernelspec": {
   "display_name": "Python 3 (ipykernel)",
   "language": "python",
   "name": "python3"
  },
  "language_info": {
   "codemirror_mode": {
    "name": "ipython",
    "version": 3
   },
   "file_extension": ".py",
   "mimetype": "text/x-python",
   "name": "python",
   "nbconvert_exporter": "python",
   "pygments_lexer": "ipython3",
   "version": "3.8.7"
  },
  "widgets": {
   "application/vnd.jupyter.widget-state+json": {
    "state": {},
    "version_major": 2,
    "version_minor": 0
   }
  }
 },
 "nbformat": 4,
 "nbformat_minor": 4
}
