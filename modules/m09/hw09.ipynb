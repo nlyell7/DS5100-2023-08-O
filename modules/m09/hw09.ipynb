{
 "cells": [
  {
   "cell_type": "markdown",
   "id": "bbea800c-241d-42b4-a744-ecaffe13959e",
   "metadata": {},
   "source": [
    "# Metadata\n",
    "\n",
    "```yaml\n",
    "Course:  DS 5100\n",
    "Module:  09 Python Packages\n",
    "Topic:   HW Package Booklover\n",
    "Author:  R.C. Alvarado (adapted)\n",
    "Date:    7 July 2023 (revised)\n",
    "```"
   ]
  },
  {
   "cell_type": "markdown",
   "id": "36f46fdd-2405-4dc8-9ea1-33f395e56cc0",
   "metadata": {},
   "source": [
    "# Student Info\n",
    "\n",
    "* Name:  Nathan Lyell\n",
    "* Net UD: xuw9ap\n",
    "* URL of this file in GitHub: https://github.com/nlyell7/DS5100-2023-08-O/blob/main/modules/m09/hw09.ipynb"
   ]
  },
  {
   "cell_type": "markdown",
   "id": "375875a8-1503-46eb-8ea1-7e5bf39b5c41",
   "metadata": {},
   "source": [
    "# Instructions\n",
    "\n",
    "In your **private course repo on Rivanna**, use this Jupyter notebook and the data file described to write code that performs the tasks below. \n",
    "\n",
    "Save your notebook in the `M09` directory.\n",
    "\n",
    "Remember to add and commit these files to your repo. \n",
    "\n",
    "Then push your commits to your repo on GitHib.\n",
    "\n",
    "Be sure to fill out the **Student Info** block above.\n",
    "\n",
    "To submit your homework, save your results as a PDF and upload it to GradeScope. More information about how to create the PDF for this assignment are included at the end of this document.\n",
    "\n",
    "**TOTAL POINTS: 8**"
   ]
  },
  {
   "cell_type": "markdown",
   "id": "1baf08dc-35fe-44f1-bc26-7e1130ee993e",
   "metadata": {},
   "source": [
    "# Overview\n",
    "\n",
    "Follow the following recipe we used in class to package the code you wrote for `HW08` -- `booklover.py` and `booklover_test.py`.\n",
    "\n",
    "* Create a new git repo for your package.\n",
    "* Create and edit the required files and directories for your package and move the booklover modules there.\n",
    "* Stage, commit, and push all the files you've created.\n",
    "* Install your package with pip.\n",
    "* Outside of your package dir, write a script to test your method.\n",
    "\n",
    "Put this notebook in your repo. This will allow you to execute bash commands and capture the outpunt directly in the notebook.\n",
    "\n",
    "**TOTAL: 8 POINTS**"
   ]
  },
  {
   "cell_type": "markdown",
   "id": "6e39ba79-49ee-41e8-9e49-23d9d6bac2e0",
   "metadata": {
    "tags": []
   },
   "source": [
    "# Tasks"
   ]
  },
  {
   "cell_type": "markdown",
   "id": "fb11de14",
   "metadata": {},
   "source": [
    "## Task 1\n",
    "\n",
    "(5 points)\n",
    "\n",
    "Show the directory structure of your repo by running this command from the root of your repo:"
   ]
  },
  {
   "cell_type": "code",
   "execution_count": null,
   "id": "7e6c6607",
   "metadata": {},
   "outputs": [],
   "source": [
    "!ls -lR\n",
    "\n",
    "(base) nathanlyell@Nathans-MacBook-Pro week_10_hw % ls -lR\n",
    "total 16\n",
    "-rw-r--r--  1 nathanlyell  staff  1064 Oct 29 20:49 LICENSE\n",
    "-rw-r--r--  1 nathanlyell  staff    12 Oct 29 20:49 README.md\n",
    "drwxr-xr-x@ 7 nathanlyell  staff   224 Oct 29 21:23 booklover\n",
    "\n",
    "./booklover:\n",
    "total 32\n",
    "-rw-r--r--@ 1 nathanlyell  staff    31 Oct 24 20:06 __init__.py\n",
    "-rw-r--r--@ 1 nathanlyell  staff  1687 Oct 22 21:50 booklover.py\n",
    "-rw-r--r--@ 1 nathanlyell  staff  2569 Oct 22 21:51 booklover_test.py\n",
    "-rw-r--r--@ 1 nathanlyell  staff   302 Oct 29 20:53 setup.py"
   ]
  },
  {
   "cell_type": "markdown",
   "id": "6b6f288b-05aa-441b-8c73-84b50b3b6844",
   "metadata": {},
   "source": [
    "## Task 2\n",
    "\n",
    "(1 point)\n",
    "\n",
    "Put the URL of your GitHub repo here. Just paste it into a Markdown cell."
   ]
  },
  {
   "cell_type": "markdown",
   "id": "4d09d889-6104-4f20-b31c-2d8a72b17693",
   "metadata": {},
   "source": [
    "URL: https://github.com/nlyell7/week_10_hw"
   ]
  },
  {
   "cell_type": "markdown",
   "id": "f989dcd1-b1d2-4eb9-8ef6-8ca2d8495260",
   "metadata": {
    "lines_to_next_cell": 0
   },
   "source": [
    "## Task 3\n",
    "\n",
    "(1 point)\n",
    "\n",
    "Show the results of installing your package.\n",
    "\n",
    "```bash\n",
    "!pip install -e .\n",
    "```"
   ]
  },
  {
   "cell_type": "markdown",
   "id": "39c5e3e6",
   "metadata": {},
   "source": [
    "(base) nathanlyell@Nathans-MacBook-Pro week_10_hw % pip install e .\n",
    "Processing /Users/nathanlyell/Desktop/UVA S1/DS5100/hw09/week_10_hw\n",
    "  Preparing metadata (setup.py) ... done\n",
    "Requirement already satisfied: e in /Users/nathanlyell/anaconda3/lib/python3.11/site-packages (1.4.5)\n",
    "Building wheels for collected packages: booklover\n",
    "  Building wheel for booklover (setup.py) ... done\n",
    "  Created wheel for booklover: filename=booklover-1.1-py3-none-any.whl size=4073 sha256=8f17c218620b8c9ed5acad7a59cfe91220159e20d458bebc4af13e18c069791e\n",
    "  Stored in directory: /private/var/folders/ln/235l6p551399m1h7d5tvp_680000gn/T/pip-ephem-wheel-cache-rq0toduo/wheels/fd/fb/b4/ffb76f66e9ba124753de9b2faac8506c443c5c2ea7ff9a6653\n",
    "Successfully built booklover\n",
    "Installing collected packages: booklover\n",
    "  Attempting uninstall: booklover\n",
    "    Found existing installation: booklover 1.1\n",
    "    Uninstalling booklover-1.1:\n",
    "      Successfully uninstalled booklover-1.1\n",
    "Successfully installed booklover-1.1"
   ]
  },
  {
   "cell_type": "markdown",
   "id": "5b1a642e-74f0-43ff-97a3-9ddc7553978e",
   "metadata": {},
   "source": [
    "## Task 4\n",
    "\n",
    "(1 point)\n",
    "\n",
    "Create a file outside your repo to test your package by running it.\n",
    "\n",
    "To do this, import the package into your file and create a BookLover object.\n",
    "\n",
    "Then add a book and then print number books read.\n",
    "\n",
    "Then run the file. \n",
    "\n",
    "Show the output of running the file below, using a command like the following:\n",
    "\n",
    "```bash\n",
    "!python ../book_lover_demo.py\n",
    "```"
   ]
  },
  {
   "cell_type": "code",
   "execution_count": null,
   "id": "5924fca8-6483-4f2b-a33f-6550d1726d6e",
   "metadata": {},
   "outputs": [],
   "source": [
    "(base) nathanlyell@Nathans-MacBook-Pro MU09 % python hw09_test.py\n",
    "welcome to this module\n",
    "/Users/nathanlyell/anaconda3/lib/python3.11/site-packages/booklover/booklover.py:15: FutureWarning: elementwise comparison failed; returning scalar instead, but in the future will perform elementwise comparison\n",
    "  if (book_name in self.book_list.values):"
   ]
  }
 ],
 "metadata": {
  "jupytext": {
   "cell_metadata_filter": "-all",
   "main_language": "bash",
   "notebook_metadata_filter": "-all"
  },
  "kernelspec": {
   "display_name": "Python 3 (ipykernel)",
   "language": "python",
   "name": "python3"
  },
  "language_info": {
   "codemirror_mode": {
    "name": "ipython",
    "version": 3
   },
   "file_extension": ".py",
   "mimetype": "text/x-python",
   "name": "python",
   "nbconvert_exporter": "python",
   "pygments_lexer": "ipython3",
   "version": "3.8.16"
  },
  "vscode": {
   "interpreter": {
    "hash": "c3b963de08c47c3b6758389c5e0978ad73698a111eb508d4e16b558edb8f4cbf"
   }
  },
  "widgets": {
   "application/vnd.jupyter.widget-state+json": {
    "state": {},
    "version_major": 2,
    "version_minor": 0
   }
  }
 },
 "nbformat": 4,
 "nbformat_minor": 5
}
