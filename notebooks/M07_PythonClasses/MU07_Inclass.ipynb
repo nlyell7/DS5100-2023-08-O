{
 "cells": [
  {
   "cell_type": "code",
   "execution_count": 9,
   "metadata": {},
   "outputs": [],
   "source": [
    "class MyClass:\n",
    "    \"\"\"Example class for Exercise 7.1\"\"\"\n",
    "    att1 = \"foo\"\n",
    "    \n",
    "    def _init_(self, att2):\n",
    "        self.att2 = att2\n",
    "    def add(self):\n",
    "        self.msg = self.att1 + ' ' + self.att2\n",
    "        print(self.msg)\n",
    "\n"
   ]
  },
  {
   "cell_type": "code",
   "execution_count": 10,
   "metadata": {},
   "outputs": [
    {
     "ename": "TypeError",
     "evalue": "MyClass() takes no arguments",
     "output_type": "error",
     "traceback": [
      "\u001b[0;31m---------------------------------------------------------------------------\u001b[0m",
      "\u001b[0;31mTypeError\u001b[0m                                 Traceback (most recent call last)",
      "Cell \u001b[0;32mIn[10], line 1\u001b[0m\n\u001b[0;32m----> 1\u001b[0m my_spoon \u001b[39m=\u001b[39m MyClass(\u001b[39m\"\u001b[39;49m\u001b[39mround\u001b[39;49m\u001b[39m\"\u001b[39;49m)\n\u001b[1;32m      2\u001b[0m \u001b[39mprint\u001b[39m(my_spoon\u001b[39m.\u001b[39matt1)\n\u001b[1;32m      3\u001b[0m \u001b[39mprint\u001b[39m(my_spoon\u001b[39m.\u001b[39matt2)\n",
      "\u001b[0;31mTypeError\u001b[0m: MyClass() takes no arguments"
     ]
    }
   ],
   "source": [
    "my_spoon = MyClass(\"round\")\n",
    "print(my_spoon.att1)\n",
    "print(my_spoon.att2)"
   ]
  },
  {
   "cell_type": "code",
   "execution_count": 11,
   "metadata": {},
   "outputs": [],
   "source": [
    "import pandas as pd\n",
    "import numpy as np\n",
    "from seaborn import boxplot\n",
    "\n",
    "class Student:\n",
    "    def _init_(self, name, id):\n",
    "        self.name = name\n",
    "        self.id = id\n",
    "        self.grades = pd.Series(dtype=float)\n",
    "    def add(self,assignment, grade):\n",
    "        self.grades.loc[assignment] = grade\n",
    "    def show_grades(self):\n",
    "        self.grades.plot.bar(title = self.name + \" \" \"(\" + self.id + \")\")\n"
   ]
  },
  {
   "cell_type": "code",
   "execution_count": 12,
   "metadata": {},
   "outputs": [
    {
     "ename": "TypeError",
     "evalue": "Student() takes no arguments",
     "output_type": "error",
     "traceback": [
      "\u001b[0;31m---------------------------------------------------------------------------\u001b[0m",
      "\u001b[0;31mTypeError\u001b[0m                                 Traceback (most recent call last)",
      "Cell \u001b[0;32mIn[12], line 1\u001b[0m\n\u001b[0;32m----> 1\u001b[0m student1 \u001b[39m=\u001b[39m Student(\u001b[39m\"\u001b[39;49m\u001b[39mDaniel Ball\u001b[39;49m\u001b[39m\"\u001b[39;49m, \u001b[39m\"\u001b[39;49m\u001b[39m19805\u001b[39;49m\u001b[39m\"\u001b[39;49m)\n\u001b[1;32m      2\u001b[0m student1\u001b[39m.\u001b[39madd(\u001b[39m\"\u001b[39m\u001b[39mHW01\u001b[39m\u001b[39m\"\u001b[39m, \u001b[39m91\u001b[39m)\n\u001b[1;32m      3\u001b[0m student1\u001b[39m.\u001b[39madd(\u001b[39m\"\u001b[39m\u001b[39mHW02\u001b[39m\u001b[39m\"\u001b[39m, \u001b[39m83\u001b[39m)\n",
      "\u001b[0;31mTypeError\u001b[0m: Student() takes no arguments"
     ]
    }
   ],
   "source": [
    "student1 = Student(\"Daniel Ball\", \"19805\")\n",
    "student1.add(\"HW01\", 91)\n",
    "student1.add(\"HW02\", 83)\n",
    "student1.add(\"HW03\", 84)\n",
    "student1.add(\"HW04\", 95)\n",
    "student1.show_grades()\n"
   ]
  },
  {
   "cell_type": "code",
   "execution_count": 16,
   "metadata": {},
   "outputs": [],
   "source": [
    "class V3():\n",
    "\n",
    "    def __init__(self, instance_size, num_vcpus,memory, disk_space):\n",
    "        self.instance_size = instance_size\n",
    "        self.num_vcpus = num_vcpus\n",
    "        self.memory = memory\n",
    "        self.disk_space = disk_space\n",
    "    def add_disk_space(self, amt_to_add):\n",
    "        self.disk_space = self.disk_space + amt_to_add\n",
    "    def has_enough_disk_space(self, amt_required):\n",
    "        if(self.disk_space >= amt_required):\n",
    "            print(\"You have enough space for this action\")\n",
    "            return True\n",
    "        else:\n",
    "            print(\"You do not have enough disk space for this action\")\n",
    "            return False\n",
    "    "
   ]
  },
  {
   "cell_type": "code",
   "execution_count": 17,
   "metadata": {},
   "outputs": [],
   "source": [
    "my_obj = V3('large', 32, 256, 1.)\n",
    "my_obj.add_disk_space(2.)\n"
   ]
  },
  {
   "cell_type": "code",
   "execution_count": null,
   "metadata": {},
   "outputs": [],
   "source": [
    "from math import pi\n",
    "\n",
    "class Circle():\n",
    "    def __init__(self, radius):\n",
    "        self.radius = radius\n",
    "    def get_area(self):\n",
    "        self.area = self.radius ** 2 * pi\n",
    "    def get_circumference(self):\n",
    "        self.circumference =  self.radius * pi * 2\n",
    "\n",
    "    "
   ]
  },
  {
   "cell_type": "code",
   "execution_count": null,
   "metadata": {},
   "outputs": [],
   "source": [
    "class T2T():\n",
    "    c2f = lambda x: x*1.8 + 32\n",
    "    f22 = lambda x: (x-32)/1.8\n"
   ]
  }
 ],
 "metadata": {
  "kernelspec": {
   "display_name": "Python 3",
   "language": "python",
   "name": "python3"
  },
  "language_info": {
   "codemirror_mode": {
    "name": "ipython",
    "version": 3
   },
   "file_extension": ".py",
   "mimetype": "text/x-python",
   "name": "python",
   "nbconvert_exporter": "python",
   "pygments_lexer": "ipython3",
   "version": "3.8.7"
  },
  "orig_nbformat": 4
 },
 "nbformat": 4,
 "nbformat_minor": 2
}
